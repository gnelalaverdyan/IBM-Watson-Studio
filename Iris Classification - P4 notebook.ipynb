{
    "cells": [
        {
            "cell_type": "markdown",
            "metadata": {},
            "source": "![image](https://github.com/IBM/watson-machine-learning-samples/raw/master/cloud/notebooks/headers/AutoAI-Banner_Pipeline-Notebook.png)\n# Pipeline 4 Notebook - AutoAI Notebook v1.15.3\n\nConsider these tips for working with an auto-generated notebook:\n- Notebook code generated using AutoAI will execute successfully. If you modify the notebook, we cannot guarantee it will run successfully.\n- This pipeline is optimized for the original data set. The pipeline might fail or produce sub-optimum results if used with different data.  If you want to use a different data set, consider retraining the AutoAI experiment to generate a new pipeline. For more information, see <a href=\"https://dataplatform.cloud.ibm.com/docs/content/wsj/analyze-data/autoai-notebook.html\">Cloud Platform</a> \n- Before modifying the pipeline or trying to re-fit the pipeline, consider that the code converts dataframes to numpy arrays before fitting the pipeline (a current restriction of the preprocessor pipeline).\n"
        },
        {
            "cell_type": "markdown",
            "metadata": {},
            "source": "<a id=\"content\"></a>\n## Notebook content\n\nThis notebook contains a Scikit-learn representation of AutoAI pipeline. This notebook introduces commands for getting data, training the model, and testing the model. \n\nSome familiarity with Python is helpful. This notebook uses Python 3.7 and scikit-learn 0.23.2."
        },
        {
            "cell_type": "markdown",
            "metadata": {
                "pycharm": {
                    "name": "#%% md\n"
                }
            },
            "source": "## Notebook goals\n\n-  Scikit-learn pipeline definition\n-  Pipeline training \n-  Pipeline evaluation\n\n## Contents\n\nThis notebook contains the following parts:\n\n**[Setup](#setup)**<br>\n&nbsp;&nbsp;[Package installation](#install)<br>\n&nbsp;&nbsp;[AutoAI experiment metadata](#variables_definition)<br>\n**[Pipeline inspection](#inspection)** <br>\n&nbsp;&nbsp;[Read training data](#read)<br>\n&nbsp;&nbsp;[Train and test data split](#split)<br>\n&nbsp;&nbsp;[Make pipeline](#preview_model_to_python_code)<br>\n&nbsp;&nbsp;[Train pipeline model](#train)<br>\n&nbsp;&nbsp;[Test pipeline model](#test_model)<br>\n**[Next steps](#next_steps)**<br>\n**[Copyrights](#copyrights)**"
        },
        {
            "cell_type": "markdown",
            "metadata": {},
            "source": "<a id=\"setup\"></a>\n# Setup"
        },
        {
            "cell_type": "markdown",
            "metadata": {},
            "source": "<a id=\"install\"></a>\n## Package installation\nBefore you use the sample code in this notebook, install the following packages:\n - ibm_watson_machine_learning,\n - autoai-libs,\n - scikit-learn.\n"
        },
        {
            "cell_type": "code",
            "execution_count": null,
            "metadata": {
                "execution": {
                    "iopub.execute_input": "2020-10-12T14:00:45.009458Z",
                    "iopub.status.busy": "2020-10-12T14:00:45.007968Z",
                    "iopub.status.idle": "2020-10-12T14:00:46.037702Z",
                    "shell.execute_reply": "2020-10-12T14:00:46.038270Z"
                },
                "pycharm": {
                    "name": "#%%\n"
                },
                "scrolled": true
            },
            "outputs": [],
            "source": "!pip install ibm-watson-machine-learning | tail -n 1\n!pip install -U autoai-libs==1.12.11 | tail -n 1\n!pip install -U scikit-learn==0.23.2 | tail -n 1"
        },
        {
            "cell_type": "markdown",
            "metadata": {},
            "source": "<a id=\"variables_definition\"></a>\n## AutoAI experiment metadata\nThe following cell contains the training data connection details.  \n**Note**: The connection might contain authorization credentials, so be careful when sharing the notebook."
        },
        {
            "cell_type": "code",
            "execution_count": null,
            "metadata": {
                "execution": {
                    "iopub.execute_input": "2020-10-12T14:00:49.797633Z",
                    "iopub.status.busy": "2020-10-12T14:00:49.796778Z",
                    "iopub.status.idle": "2020-10-12T14:00:57.182715Z",
                    "shell.execute_reply": "2020-10-12T14:00:57.183132Z"
                },
                "pycharm": {
                    "is_executing": true
                }
            },
            "outputs": [],
            "source": "from ibm_watson_machine_learning.helpers import DataConnection\nfrom ibm_watson_machine_learning.helpers import S3Connection, S3Location\n\ntraining_data_reference = [\n    DataConnection(\n    connection=S3Connection(\n        api_key='0tdcjovqzaU3d6QsrVFALmndAo_SniQQhEuYD1RBFAIa',\n        auth_endpoint='https://iam.bluemix.net/oidc/token/',\n        endpoint_url='https://s3.us.cloud-object-storage.appdomain.cloud'\n    ),\n        location=S3Location(\n            bucket='test-donotdelete-pr-ka97ym1fnm433k',\n            path='titanic.csv.csv'\n        )\n    ),\n]\ntraining_result_reference = DataConnection(\n    connection=S3Connection(\n        api_key='0tdcjovqzaU3d6QsrVFALmndAo_SniQQhEuYD1RBFAIa',\n        auth_endpoint='https://iam.bluemix.net/oidc/token/',\n        endpoint_url='https://s3.us.cloud-object-storage.appdomain.cloud'\n    ),\n    location=S3Location(\n        bucket='test-donotdelete-pr-ka97ym1fnm433k',\n        path='auto_ml/dc1ee4fc-1de8-4a75-baa9-89e6e1a628a6/wml_data/d90d585c-7b7f-4b38-bc00-d1e2f5dd84e4/data/automl',\n        model_location='auto_ml/dc1ee4fc-1de8-4a75-baa9-89e6e1a628a6/wml_data/d90d585c-7b7f-4b38-bc00-d1e2f5dd84e4/data/automl/hpo_c_output/Pipeline1/model.pickle',\n        training_status='auto_ml/dc1ee4fc-1de8-4a75-baa9-89e6e1a628a6/wml_data/d90d585c-7b7f-4b38-bc00-d1e2f5dd84e4/training-status.json'\n    )\n)"
        },
        {
            "cell_type": "markdown",
            "metadata": {},
            "source": "Following cell contains input parameters provided to run the AutoAI experiment in Watson Studio."
        },
        {
            "cell_type": "code",
            "execution_count": null,
            "metadata": {
                "execution": {
                    "iopub.execute_input": "2020-10-12T14:00:57.187305Z",
                    "iopub.status.busy": "2020-10-12T14:00:57.186602Z",
                    "iopub.status.idle": "2020-10-12T14:00:57.188392Z",
                    "shell.execute_reply": "2020-10-12T14:00:57.188878Z"
                },
                "pycharm": {
                    "name": "#%%\n"
                }
            },
            "outputs": [],
            "source": "experiment_metadata = dict(\n    prediction_type='binary',\n    prediction_column='Survived',\n    holdout_size=0.2,\n    scoring='f1',\n    csv_separator=',',\n    random_state=33,\n    max_number_of_estimators=1,\n    training_data_reference=training_data_reference,\n    training_result_reference=training_result_reference,\n    include_only_estimators=['LogisticRegression'],\n    deployment_url='https://us-south.ml.cloud.ibm.com',\n    project_id='1a285aeb-f4d8-4374-96bd-b363ca5047c0',\n    positive_label=1,\n    drop_duplicates=True\n)"
        },
        {
            "cell_type": "markdown",
            "metadata": {},
            "source": "## Set `n_jobs` parameter to the number of available CPUs"
        },
        {
            "cell_type": "code",
            "execution_count": null,
            "metadata": {},
            "outputs": [],
            "source": "import os, ast\nCPU_NUMBER = 1\nif 'RUNTIME_HARDWARE_SPEC' in os.environ:\n    CPU_NUMBER = int(ast.literal_eval(os.environ['RUNTIME_HARDWARE_SPEC'])['num_cpu'])"
        },
        {
            "cell_type": "markdown",
            "metadata": {},
            "source": "<a id=\"inspection\"></a>\n# Pipeline inspection"
        },
        {
            "cell_type": "markdown",
            "metadata": {
                "pycharm": {
                    "name": "#%% md\n"
                }
            },
            "source": "<a id=\"read\"></a>\n## Read training data\n\nRetrieve training dataset from AutoAI experiment as pandas DataFrame.\n\n**Note**: If reading data results in an error, provide data as Pandas DataFrame object, for example, reading .CSV file with `pandas.read_csv()`"
        },
        {
            "cell_type": "code",
            "execution_count": null,
            "metadata": {
                "execution": {
                    "iopub.execute_input": "2020-10-12T14:01:16.076169Z",
                    "iopub.status.busy": "2020-10-12T14:01:16.075589Z",
                    "iopub.status.idle": "2020-10-12T14:01:19.190233Z",
                    "shell.execute_reply": "2020-10-12T14:01:19.190807Z"
                },
                "pycharm": {
                    "is_executing": true,
                    "name": "#%%\n"
                }
            },
            "outputs": [],
            "source": "df = training_data_reference[0].read(experiment_metadata=experiment_metadata)\ndf.dropna('rows', how='any', subset=[experiment_metadata['prediction_column']], inplace=True)"
        },
        {
            "cell_type": "markdown",
            "metadata": {},
            "source": "<a id=\"split\"></a>\n##  Train and test data split"
        },
        {
            "cell_type": "code",
            "execution_count": null,
            "metadata": {
                "pycharm": {
                    "is_executing": true
                }
            },
            "outputs": [],
            "source": "from sklearn.model_selection import train_test_split\n\ndf.drop_duplicates(inplace=True)\nX = df.drop([experiment_metadata['prediction_column']], axis=1).values\ny = df[experiment_metadata['prediction_column']].values\n\ntrain_X, test_X, train_y, test_y = train_test_split(X, y, test_size=experiment_metadata['holdout_size'],\n                                                    stratify=y, random_state=experiment_metadata['random_state'])"
        },
        {
            "cell_type": "markdown",
            "metadata": {
                "pycharm": {
                    "name": "#%% md\n"
                }
            },
            "source": "<a id=\"preview_model_to_python_code\"></a>\n## Make pipeline\nIn the next cell, you can find the Scikit-learn definition of the selected AutoAI pipeline."
        },
        {
            "cell_type": "markdown",
            "metadata": {},
            "source": "#### Import statements."
        },
        {
            "cell_type": "code",
            "execution_count": null,
            "metadata": {
                "pycharm": {
                    "is_executing": true,
                    "name": "#%%\n"
                }
            },
            "outputs": [],
            "source": "from autoai_libs.transformers.text_transformers import TextTransformer\nfrom autoai_libs.transformers.exportable import NumpyColumnSelector\nfrom autoai_libs.transformers.exportable import CompressStrings\nfrom autoai_libs.transformers.exportable import NumpyReplaceMissingValues\nfrom autoai_libs.transformers.exportable import NumpyReplaceUnknownValues\nfrom autoai_libs.transformers.exportable import boolean2float\nfrom autoai_libs.transformers.exportable import CatImputer\nfrom autoai_libs.transformers.exportable import CatEncoder\nimport numpy as np\nfrom autoai_libs.transformers.exportable import float32_transform\nfrom sklearn.pipeline import make_pipeline\nfrom autoai_libs.transformers.exportable import FloatStr2Float\nfrom autoai_libs.transformers.exportable import NumImputer\nfrom autoai_libs.transformers.exportable import OptStandardScaler\nfrom sklearn.pipeline import make_union\nfrom autoai_libs.transformers.exportable import NumpyPermuteArray\nfrom autoai_libs.cognito.transforms.transform_utils import TA1\nimport autoai_libs.utils.fc_methods\nfrom autoai_libs.cognito.transforms.transform_utils import FS1\nfrom autoai_libs.cognito.transforms.transform_utils import TA2\nfrom sklearn.linear_model import LogisticRegression"
        },
        {
            "cell_type": "markdown",
            "metadata": {},
            "source": "#### Pre-processing & Estimator."
        },
        {
            "cell_type": "code",
            "execution_count": null,
            "metadata": {
                "pycharm": {
                    "is_executing": true,
                    "name": "#%%\n"
                }
            },
            "outputs": [],
            "source": "text_transformer_0 = TextTransformer(\n    text_processing_options={\"word2vec\": {\"output_dim\": 20}},\n    column_headers_list=[\n        \"Pclass\", \"Sex\", \"Age\", \"SibSp\", \"Parch\", \"Ticket\", \"Fare\", \"Cabin\",\n        \"Embarked\", \"NewTextFeature_0_word2vec(Name)\",\n        \"NewTextFeature_1_word2vec(Name)\", \"NewTextFeature_2_word2vec(Name)\",\n        \"NewTextFeature_3_word2vec(Name)\", \"NewTextFeature_4_word2vec(Name)\",\n        \"NewTextFeature_5_word2vec(Name)\", \"NewTextFeature_6_word2vec(Name)\",\n        \"NewTextFeature_7_word2vec(Name)\", \"NewTextFeature_8_word2vec(Name)\",\n        \"NewTextFeature_9_word2vec(Name)\", \"NewTextFeature_10_word2vec(Name)\",\n        \"NewTextFeature_11_word2vec(Name)\",\n        \"NewTextFeature_12_word2vec(Name)\",\n        \"NewTextFeature_13_word2vec(Name)\",\n        \"NewTextFeature_14_word2vec(Name)\",\n        \"NewTextFeature_15_word2vec(Name)\",\n        \"NewTextFeature_16_word2vec(Name)\",\n        \"NewTextFeature_17_word2vec(Name)\",\n        \"NewTextFeature_18_word2vec(Name)\",\n        \"NewTextFeature_19_word2vec(Name)\",\n    ],\n    columns_to_be_deleted=[0, 2],\n    drop_columns=True,\n    text_columns=[2],\n)\nnumpy_column_selector_0 = NumpyColumnSelector(columns=[0, 1, 3, 4, 5, 7, 8])\ncompress_strings = CompressStrings(\n    compress_type=\"hash\",\n    dtypes_list=[\n        \"int_num\", \"char_str\", \"int_num\", \"int_num\", \"char_str\", \"char_str\",\n        \"char_str\",\n    ],\n    missing_values_reference_list=[\"\", \"-\", \"?\", float(\"nan\")],\n    misslist_list=[[], [], [], [], [], [float(\"nan\")], [float(\"nan\")]],\n)\nnumpy_replace_missing_values_0 = NumpyReplaceMissingValues(\n    missing_values=[float(\"nan\")], filling_values=float(\"nan\")\n)\nnumpy_replace_unknown_values = NumpyReplaceUnknownValues(\n    filling_values=float(\"nan\"),\n    filling_values_list=[\n        float(\"nan\"), float(\"nan\"), float(\"nan\"), float(\"nan\"), float(\"nan\"),\n        float(\"nan\"), float(\"nan\"),\n    ],\n    missing_values_reference_list=[\"\", \"-\", \"?\", float(\"nan\")],\n)\ncat_imputer = CatImputer(\n    strategy=\"most_frequent\",\n    missing_values=float(\"nan\"),\n    sklearn_version_family=\"23\",\n)\ncat_encoder = CatEncoder(\n    encoding=\"ordinal\",\n    categories=\"auto\",\n    dtype=np.float64,\n    handle_unknown=\"error\",\n    sklearn_version_family=\"23\",\n)\npipeline_0 = make_pipeline(\n    text_transformer_0,\n    numpy_column_selector_0,\n    compress_strings,\n    numpy_replace_missing_values_0,\n    numpy_replace_unknown_values,\n    boolean2float(),\n    cat_imputer,\n    cat_encoder,\n    float32_transform(),\n)\ntext_transformer_1 = TextTransformer(\n    text_processing_options={\"word2vec\": {\"output_dim\": 20}},\n    column_headers_list=[\n        \"Pclass\", \"Sex\", \"Age\", \"SibSp\", \"Parch\", \"Ticket\", \"Fare\", \"Cabin\",\n        \"Embarked\", \"NewTextFeature_0_word2vec(Name)\",\n        \"NewTextFeature_1_word2vec(Name)\", \"NewTextFeature_2_word2vec(Name)\",\n        \"NewTextFeature_3_word2vec(Name)\", \"NewTextFeature_4_word2vec(Name)\",\n        \"NewTextFeature_5_word2vec(Name)\", \"NewTextFeature_6_word2vec(Name)\",\n        \"NewTextFeature_7_word2vec(Name)\", \"NewTextFeature_8_word2vec(Name)\",\n        \"NewTextFeature_9_word2vec(Name)\", \"NewTextFeature_10_word2vec(Name)\",\n        \"NewTextFeature_11_word2vec(Name)\",\n        \"NewTextFeature_12_word2vec(Name)\",\n        \"NewTextFeature_13_word2vec(Name)\",\n        \"NewTextFeature_14_word2vec(Name)\",\n        \"NewTextFeature_15_word2vec(Name)\",\n        \"NewTextFeature_16_word2vec(Name)\",\n        \"NewTextFeature_17_word2vec(Name)\",\n        \"NewTextFeature_18_word2vec(Name)\",\n        \"NewTextFeature_19_word2vec(Name)\",\n    ],\n    columns_to_be_deleted=[0, 2],\n    drop_columns=True,\n    text_columns=[2],\n)\nnumpy_column_selector_1 = NumpyColumnSelector(\n    columns=[\n        2, 6, 9, 10, 11, 12, 13, 14, 15, 16, 17, 18, 19, 20, 21, 22, 23, 24,\n        25, 26, 27, 28,\n    ]\n)\nfloat_str2_float = FloatStr2Float(\n    dtypes_list=[\n        \"float_num\", \"float_num\", \"float_num\", \"float_num\", \"float_num\",\n        \"float_num\", \"float_num\", \"float_num\", \"float_num\", \"float_num\",\n        \"float_num\", \"float_num\", \"float_num\", \"float_num\", \"float_num\",\n        \"float_num\", \"float_num\", \"float_num\", \"float_num\", \"float_num\",\n        \"float_num\", \"float_num\",\n    ],\n    missing_values_reference_list=[float(\"nan\")],\n)\nnumpy_replace_missing_values_1 = NumpyReplaceMissingValues(\n    missing_values=[float(\"nan\")], filling_values=float(\"nan\")\n)\nnum_imputer = NumImputer(strategy=\"median\", missing_values=float(\"nan\"))\nopt_standard_scaler = OptStandardScaler(\n    num_scaler_copy=None,\n    num_scaler_with_mean=None,\n    num_scaler_with_std=None,\n    use_scaler_flag=False,\n)\npipeline_1 = make_pipeline(\n    text_transformer_1,\n    numpy_column_selector_1,\n    float_str2_float,\n    numpy_replace_missing_values_1,\n    num_imputer,\n    opt_standard_scaler,\n    float32_transform(),\n)\nunion = make_union(pipeline_0, pipeline_1)\nnumpy_permute_array = NumpyPermuteArray(\n    axis=0,\n    permutation_indices=[\n        0, 1, 3, 4, 5, 7, 8, 2, 6, 9, 10, 11, 12, 13, 14, 15, 16, 17, 18, 19,\n        20, 21, 22, 23, 24, 25, 26, 27, 28,\n    ],\n)\nta1 = TA1(\n    fun=np.sqrt,\n    name=\"sqrt\",\n    datatypes=[\"numeric\"],\n    feat_constraints=[\n        autoai_libs.utils.fc_methods.is_non_negative,\n        autoai_libs.utils.fc_methods.is_not_categorical,\n    ],\n    col_names=[\n        \"Pclass\", \"Sex\", \"Age\", \"SibSp\", \"Parch\", \"Ticket\", \"Fare\", \"Cabin\",\n        \"Embarked\", \"NewTextFeature_0_word2vec(Name)\",\n        \"NewTextFeature_1_word2vec(Name)\", \"NewTextFeature_2_word2vec(Name)\",\n        \"NewTextFeature_3_word2vec(Name)\", \"NewTextFeature_4_word2vec(Name)\",\n        \"NewTextFeature_5_word2vec(Name)\", \"NewTextFeature_6_word2vec(Name)\",\n        \"NewTextFeature_7_word2vec(Name)\", \"NewTextFeature_8_word2vec(Name)\",\n        \"NewTextFeature_9_word2vec(Name)\", \"NewTextFeature_10_word2vec(Name)\",\n        \"NewTextFeature_11_word2vec(Name)\",\n        \"NewTextFeature_12_word2vec(Name)\",\n        \"NewTextFeature_13_word2vec(Name)\",\n        \"NewTextFeature_14_word2vec(Name)\",\n        \"NewTextFeature_15_word2vec(Name)\",\n        \"NewTextFeature_16_word2vec(Name)\",\n        \"NewTextFeature_17_word2vec(Name)\",\n        \"NewTextFeature_18_word2vec(Name)\",\n        \"NewTextFeature_19_word2vec(Name)\",\n    ],\n    col_dtypes=[\n        np.dtype(\"float32\"), np.dtype(\"float32\"), np.dtype(\"float32\"),\n        np.dtype(\"float32\"), np.dtype(\"float32\"), np.dtype(\"float32\"),\n        np.dtype(\"float32\"), np.dtype(\"float32\"), np.dtype(\"float32\"),\n        np.dtype(\"float32\"), np.dtype(\"float32\"), np.dtype(\"float32\"),\n        np.dtype(\"float32\"), np.dtype(\"float32\"), np.dtype(\"float32\"),\n        np.dtype(\"float32\"), np.dtype(\"float32\"), np.dtype(\"float32\"),\n        np.dtype(\"float32\"), np.dtype(\"float32\"), np.dtype(\"float32\"),\n        np.dtype(\"float32\"), np.dtype(\"float32\"), np.dtype(\"float32\"),\n        np.dtype(\"float32\"), np.dtype(\"float32\"), np.dtype(\"float32\"),\n        np.dtype(\"float32\"), np.dtype(\"float32\"),\n    ],\n)\nfs1_0 = FS1(\n    cols_ids_must_keep=range(0, 29),\n    additional_col_count_to_keep=20,\n    ptype=\"classification\",\n)\nta2 = TA2(\n    fun=np.multiply,\n    name=\"product\",\n    datatypes1=[\n        \"intc\", \"intp\", \"int_\", \"uint8\", \"uint16\", \"uint32\", \"uint64\", \"int8\",\n        \"int16\", \"int32\", \"int64\", \"short\", \"long\", \"longlong\", \"float16\",\n        \"float32\", \"float64\",\n    ],\n    feat_constraints1=[autoai_libs.utils.fc_methods.is_not_categorical],\n    datatypes2=[\n        \"intc\", \"intp\", \"int_\", \"uint8\", \"uint16\", \"uint32\", \"uint64\", \"int8\",\n        \"int16\", \"int32\", \"int64\", \"short\", \"long\", \"longlong\", \"float16\",\n        \"float32\", \"float64\",\n    ],\n    feat_constraints2=[autoai_libs.utils.fc_methods.is_not_categorical],\n    col_names=[\n        \"Pclass\", \"Sex\", \"Age\", \"SibSp\", \"Parch\", \"Ticket\", \"Fare\", \"Cabin\",\n        \"Embarked\", \"NewTextFeature_0_word2vec(Name)\",\n        \"NewTextFeature_1_word2vec(Name)\", \"NewTextFeature_2_word2vec(Name)\",\n        \"NewTextFeature_3_word2vec(Name)\", \"NewTextFeature_4_word2vec(Name)\",\n        \"NewTextFeature_5_word2vec(Name)\", \"NewTextFeature_6_word2vec(Name)\",\n        \"NewTextFeature_7_word2vec(Name)\", \"NewTextFeature_8_word2vec(Name)\",\n        \"NewTextFeature_9_word2vec(Name)\", \"NewTextFeature_10_word2vec(Name)\",\n        \"NewTextFeature_11_word2vec(Name)\",\n        \"NewTextFeature_12_word2vec(Name)\",\n        \"NewTextFeature_13_word2vec(Name)\",\n        \"NewTextFeature_14_word2vec(Name)\",\n        \"NewTextFeature_15_word2vec(Name)\",\n        \"NewTextFeature_16_word2vec(Name)\",\n        \"NewTextFeature_17_word2vec(Name)\",\n        \"NewTextFeature_18_word2vec(Name)\",\n        \"NewTextFeature_19_word2vec(Name)\", \"sqrt(Age)\", \"sqrt(Fare)\",\n        \"sqrt(Cabin)\", \"sqrt(NewTextFeature_0_word2vec(Name))\",\n        \"sqrt(NewTextFeature_1_word2vec(Name))\",\n        \"sqrt(NewTextFeature_2_word2vec(Name))\",\n        \"sqrt(NewTextFeature_3_word2vec(Name))\",\n        \"sqrt(NewTextFeature_5_word2vec(Name))\",\n        \"sqrt(NewTextFeature_6_word2vec(Name))\",\n        \"sqrt(NewTextFeature_7_word2vec(Name))\",\n        \"sqrt(NewTextFeature_8_word2vec(Name))\",\n        \"sqrt(NewTextFeature_9_word2vec(Name))\",\n        \"sqrt(NewTextFeature_11_word2vec(Name))\",\n        \"sqrt(NewTextFeature_12_word2vec(Name))\",\n        \"sqrt(NewTextFeature_13_word2vec(Name))\",\n        \"sqrt(NewTextFeature_14_word2vec(Name))\",\n        \"sqrt(NewTextFeature_16_word2vec(Name))\",\n        \"sqrt(NewTextFeature_17_word2vec(Name))\",\n        \"sqrt(NewTextFeature_18_word2vec(Name))\",\n        \"sqrt(NewTextFeature_19_word2vec(Name))\",\n    ],\n    col_dtypes=[\n        np.dtype(\"float32\"), np.dtype(\"float32\"), np.dtype(\"float32\"),\n        np.dtype(\"float32\"), np.dtype(\"float32\"), np.dtype(\"float32\"),\n        np.dtype(\"float32\"), np.dtype(\"float32\"), np.dtype(\"float32\"),\n        np.dtype(\"float32\"), np.dtype(\"float32\"), np.dtype(\"float32\"),\n        np.dtype(\"float32\"), np.dtype(\"float32\"), np.dtype(\"float32\"),\n        np.dtype(\"float32\"), np.dtype(\"float32\"), np.dtype(\"float32\"),\n        np.dtype(\"float32\"), np.dtype(\"float32\"), np.dtype(\"float32\"),\n        np.dtype(\"float32\"), np.dtype(\"float32\"), np.dtype(\"float32\"),\n        np.dtype(\"float32\"), np.dtype(\"float32\"), np.dtype(\"float32\"),\n        np.dtype(\"float32\"), np.dtype(\"float32\"), np.dtype(\"float32\"),\n        np.dtype(\"float32\"), np.dtype(\"float32\"), np.dtype(\"float32\"),\n        np.dtype(\"float32\"), np.dtype(\"float32\"), np.dtype(\"float32\"),\n        np.dtype(\"float32\"), np.dtype(\"float32\"), np.dtype(\"float32\"),\n        np.dtype(\"float32\"), np.dtype(\"float32\"), np.dtype(\"float32\"),\n        np.dtype(\"float32\"), np.dtype(\"float32\"), np.dtype(\"float32\"),\n        np.dtype(\"float32\"), np.dtype(\"float32\"), np.dtype(\"float32\"),\n        np.dtype(\"float32\"),\n    ],\n)\nfs1_1 = FS1(\n    cols_ids_must_keep=range(0, 29),\n    additional_col_count_to_keep=20,\n    ptype=\"classification\",\n)\nlogistic_regression = LogisticRegression(\n    class_weight=\"balanced\",\n    fit_intercept=False,\n    intercept_scaling=0.9999984733342473,\n    max_iter=612,\n    n_jobs=CPU_NUMBER,\n    random_state=33,\n    solver=\"liblinear\",\n    tol=0.009999999693622934,\n)\n"
        },
        {
            "cell_type": "markdown",
            "metadata": {},
            "source": "#### Pipeline."
        },
        {
            "cell_type": "code",
            "execution_count": null,
            "metadata": {
                "pycharm": {
                    "is_executing": true,
                    "name": "#%%\n"
                }
            },
            "outputs": [],
            "source": "pipeline = make_pipeline(\n    union, numpy_permute_array, ta1, fs1_0, ta2, fs1_1, logistic_regression\n)"
        },
        {
            "cell_type": "markdown",
            "metadata": {},
            "source": "<a id=\"train\"></a>\n## Train pipeline model\n"
        },
        {
            "cell_type": "markdown",
            "metadata": {},
            "source": "### Define scorer from the optimization metric\nThis cell constructs the cell scorer based on the experiment metadata."
        },
        {
            "cell_type": "code",
            "execution_count": null,
            "metadata": {
                "pycharm": {
                    "is_executing": true
                }
            },
            "outputs": [],
            "source": "from sklearn.metrics import get_scorer, make_scorer\n\nscorer = get_scorer(experiment_metadata['scoring'])\nkwargs = {'pos_label':1}\nscorer = make_scorer(scorer._score_func, **kwargs)"
        },
        {
            "cell_type": "markdown",
            "metadata": {
                "pycharm": {
                    "name": "#%% md\n"
                }
            },
            "source": "<a id=\"test_model\"></a>\n### Fit pipeline model\nIn this cell, the pipeline is fitted."
        },
        {
            "cell_type": "code",
            "execution_count": null,
            "metadata": {
                "execution": {
                    "iopub.execute_input": "2020-10-12T14:01:19.291734Z",
                    "iopub.status.busy": "2020-10-12T14:01:19.244735Z",
                    "iopub.status.idle": "2020-10-12T14:01:19.338461Z",
                    "shell.execute_reply": "2020-10-12T14:01:19.338958Z"
                },
                "pycharm": {
                    "is_executing": true,
                    "name": "#%%\n"
                },
                "scrolled": true
            },
            "outputs": [],
            "source": "pipeline.fit(train_X,train_y)"
        },
        {
            "cell_type": "markdown",
            "metadata": {},
            "source": "<a id=\"test_model\"></a>\n## Test pipeline model"
        },
        {
            "cell_type": "markdown",
            "metadata": {},
            "source": "Score the fitted pipeline with the generated scorer using the holdout dataset."
        },
        {
            "cell_type": "code",
            "execution_count": null,
            "metadata": {
                "execution": {
                    "iopub.execute_input": "2020-10-12T14:02:03.910267Z",
                    "iopub.status.busy": "2020-10-12T14:02:03.909710Z",
                    "iopub.status.idle": "2020-10-12T14:02:03.914154Z",
                    "shell.execute_reply": "2020-10-12T14:02:03.914727Z"
                },
                "pycharm": {
                    "is_executing": true,
                    "name": "#%%\n"
                }
            },
            "outputs": [],
            "source": "score = scorer(pipeline, test_X, test_y)\nprint(score)"
        },
        {
            "cell_type": "markdown",
            "metadata": {},
            "source": "### Calling the `predict` method\nIf you want to get a prediction using pipeline model object, call `pipeline.predict()`.\n\n**Note:** If you want to work with pure sklearn model:\n - add the following parameter to `get_pipeline` call: `astype='sklearn'`,\n - or `scikit_learn_pipeline = pipeline.export_to_sklearn_pipeline()`"
        },
        {
            "cell_type": "code",
            "execution_count": null,
            "metadata": {},
            "outputs": [],
            "source": "pipeline.predict(test_X)"
        },
        {
            "cell_type": "markdown",
            "metadata": {},
            "source": "<a id=\"next_steps\"></a>\n# Next steps\n\n#### [Model deployment as webservice](https://github.com/IBM/watson-machine-learning-samples/tree/master/cloud/notebooks/python_sdk/deployments/autoai)\n#### [Run AutoAI experiment with python SDK](https://github.com/IBM/watson-machine-learning-samples/tree/master/cloud/notebooks/python_sdk/experiments/autoai)  "
        },
        {
            "cell_type": "markdown",
            "metadata": {
                "pycharm": {
                    "name": "#%% md\n"
                }
            },
            "source": "<a id=\"copyrights\"></a>\n### Copyrights\n\nLicensed Materials - Copyright \u00a9 2021 IBM. This notebook and its source code are released under the terms of the ILAN License. Use, duplication disclosure restricted by GSA ADP Schedule Contract with IBM Corp.\n\n**Note:** The auto-generated notebooks are subject to the International License Agreement for Non-Warranted Programs (or equivalent) and License Information document for Watson Studio Auto-generated Notebook (License Terms), such agreements located in the link below. Specifically, the Source Components and Sample Materials clause included in the License Information document for Watson Studio Auto-generated Notebook applies to the auto-generated notebooks.  \n\nBy downloading, copying, accessing, or otherwise using the materials, you agree to the <a href=\"http://www14.software.ibm.com/cgi-bin/weblap/lap.pl?li_formnum=L-AMCU-BYC7LF\">License Terms</a>\n\n___"
        }
    ],
    "metadata": {
        "kernelspec": {
            "display_name": "Python 3.7",
            "language": "python",
            "name": "python3"
        },
        "language_info": {
            "codemirror_mode": {
                "name": "ipython",
                "version": 3
            },
            "file_extension": ".py",
            "mimetype": "text/x-python",
            "name": "python",
            "nbconvert_exporter": "python",
            "pygments_lexer": "ipython3",
            "version": "3.7.10"
        }
    },
    "nbformat": 4,
    "nbformat_minor": 2
}